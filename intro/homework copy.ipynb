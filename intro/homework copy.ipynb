{
 "cells": [
  {
   "cell_type": "markdown",
   "metadata": {},
   "source": [
    "# Machine Learning BookCamp - Zoom Camp\n",
    "\n",
    "## Home work : \n",
    "\n",
    "### 01 Intro\n",
    "\n",
    "#### [Chris Smith's Github Link](https://github.com/christopherlynnsmith/ml-bootcamp)"
   ]
  },
  {
   "cell_type": "code",
   "execution_count": 114,
   "metadata": {},
   "outputs": [],
   "source": [
    "import numpy as np\n",
    "import pandas as pd"
   ]
  },
  {
   "cell_type": "markdown",
   "metadata": {},
   "source": [
    "Question 1:  What is the version of Numpy installed?"
   ]
  },
  {
   "cell_type": "code",
   "execution_count": 115,
   "metadata": {},
   "outputs": [
    {
     "data": {
      "text/plain": [
       "'1.21.5'"
      ]
     },
     "execution_count": 115,
     "metadata": {},
     "output_type": "execute_result"
    }
   ],
   "source": [
    "# Q1\n",
    "np.__version__"
   ]
  },
  {
   "cell_type": "code",
   "execution_count": 116,
   "metadata": {},
   "outputs": [
    {
     "data": {
      "text/plain": [
       "'1.4.3'"
      ]
     },
     "execution_count": 116,
     "metadata": {},
     "output_type": "execute_result"
    }
   ],
   "source": [
    "# Q2\n",
    "pd.__version__"
   ]
  },
  {
   "cell_type": "markdown",
   "metadata": {},
   "source": [
    "Getting the data: "
   ]
  },
  {
   "cell_type": "code",
   "execution_count": 117,
   "metadata": {},
   "outputs": [
    {
     "name": "stdout",
     "output_type": "stream",
     "text": [
      "--2022-09-11 23:04:11--  https://raw.githubusercontent.com/alexeygrigorev/mlbookcamp-code/master/chapter-02-car-price/data.csv\n",
      "Resolving raw.githubusercontent.com (raw.githubusercontent.com)... 185.199.109.133, 185.199.108.133, 185.199.110.133, ...\n",
      "Connecting to raw.githubusercontent.com (raw.githubusercontent.com)|185.199.109.133|:443... connected.\n",
      "HTTP request sent, awaiting response... 200 OK\n",
      "Length: 1475504 (1.4M) [text/plain]\n",
      "Saving to: ‘data.csv.1’\n",
      "\n",
      "data.csv.1          100%[===================>]   1.41M  4.28MB/s    in 0.3s    \n",
      "\n",
      "2022-09-11 23:04:11 (4.28 MB/s) - ‘data.csv.1’ saved [1475504/1475504]\n",
      "\n"
     ]
    }
   ],
   "source": [
    "!wget https://raw.githubusercontent.com/alexeygrigorev/mlbookcamp-code/master/chapter-02-car-price/data.csv\n",
    "\n",
    "df = pd.read_csv(\"data.csv\")"
   ]
  },
  {
   "cell_type": "code",
   "execution_count": 118,
   "metadata": {},
   "outputs": [
    {
     "data": {
      "text/html": [
       "<div>\n",
       "<style scoped>\n",
       "    .dataframe tbody tr th:only-of-type {\n",
       "        vertical-align: middle;\n",
       "    }\n",
       "\n",
       "    .dataframe tbody tr th {\n",
       "        vertical-align: top;\n",
       "    }\n",
       "\n",
       "    .dataframe thead th {\n",
       "        text-align: right;\n",
       "    }\n",
       "</style>\n",
       "<table border=\"1\" class=\"dataframe\">\n",
       "  <thead>\n",
       "    <tr style=\"text-align: right;\">\n",
       "      <th></th>\n",
       "      <th>Make</th>\n",
       "      <th>Model</th>\n",
       "      <th>Year</th>\n",
       "      <th>Engine Fuel Type</th>\n",
       "      <th>Engine HP</th>\n",
       "      <th>Engine Cylinders</th>\n",
       "      <th>Transmission Type</th>\n",
       "      <th>Driven_Wheels</th>\n",
       "      <th>Number of Doors</th>\n",
       "      <th>Market Category</th>\n",
       "      <th>Vehicle Size</th>\n",
       "      <th>Vehicle Style</th>\n",
       "      <th>highway MPG</th>\n",
       "      <th>city mpg</th>\n",
       "      <th>Popularity</th>\n",
       "      <th>MSRP</th>\n",
       "    </tr>\n",
       "  </thead>\n",
       "  <tbody>\n",
       "    <tr>\n",
       "      <th>0</th>\n",
       "      <td>BMW</td>\n",
       "      <td>1 Series M</td>\n",
       "      <td>2011</td>\n",
       "      <td>premium unleaded (required)</td>\n",
       "      <td>335.0</td>\n",
       "      <td>6.0</td>\n",
       "      <td>MANUAL</td>\n",
       "      <td>rear wheel drive</td>\n",
       "      <td>2.0</td>\n",
       "      <td>Factory Tuner,Luxury,High-Performance</td>\n",
       "      <td>Compact</td>\n",
       "      <td>Coupe</td>\n",
       "      <td>26</td>\n",
       "      <td>19</td>\n",
       "      <td>3916</td>\n",
       "      <td>46135</td>\n",
       "    </tr>\n",
       "    <tr>\n",
       "      <th>1</th>\n",
       "      <td>BMW</td>\n",
       "      <td>1 Series</td>\n",
       "      <td>2011</td>\n",
       "      <td>premium unleaded (required)</td>\n",
       "      <td>300.0</td>\n",
       "      <td>6.0</td>\n",
       "      <td>MANUAL</td>\n",
       "      <td>rear wheel drive</td>\n",
       "      <td>2.0</td>\n",
       "      <td>Luxury,Performance</td>\n",
       "      <td>Compact</td>\n",
       "      <td>Convertible</td>\n",
       "      <td>28</td>\n",
       "      <td>19</td>\n",
       "      <td>3916</td>\n",
       "      <td>40650</td>\n",
       "    </tr>\n",
       "    <tr>\n",
       "      <th>2</th>\n",
       "      <td>BMW</td>\n",
       "      <td>1 Series</td>\n",
       "      <td>2011</td>\n",
       "      <td>premium unleaded (required)</td>\n",
       "      <td>300.0</td>\n",
       "      <td>6.0</td>\n",
       "      <td>MANUAL</td>\n",
       "      <td>rear wheel drive</td>\n",
       "      <td>2.0</td>\n",
       "      <td>Luxury,High-Performance</td>\n",
       "      <td>Compact</td>\n",
       "      <td>Coupe</td>\n",
       "      <td>28</td>\n",
       "      <td>20</td>\n",
       "      <td>3916</td>\n",
       "      <td>36350</td>\n",
       "    </tr>\n",
       "    <tr>\n",
       "      <th>3</th>\n",
       "      <td>BMW</td>\n",
       "      <td>1 Series</td>\n",
       "      <td>2011</td>\n",
       "      <td>premium unleaded (required)</td>\n",
       "      <td>230.0</td>\n",
       "      <td>6.0</td>\n",
       "      <td>MANUAL</td>\n",
       "      <td>rear wheel drive</td>\n",
       "      <td>2.0</td>\n",
       "      <td>Luxury,Performance</td>\n",
       "      <td>Compact</td>\n",
       "      <td>Coupe</td>\n",
       "      <td>28</td>\n",
       "      <td>18</td>\n",
       "      <td>3916</td>\n",
       "      <td>29450</td>\n",
       "    </tr>\n",
       "    <tr>\n",
       "      <th>4</th>\n",
       "      <td>BMW</td>\n",
       "      <td>1 Series</td>\n",
       "      <td>2011</td>\n",
       "      <td>premium unleaded (required)</td>\n",
       "      <td>230.0</td>\n",
       "      <td>6.0</td>\n",
       "      <td>MANUAL</td>\n",
       "      <td>rear wheel drive</td>\n",
       "      <td>2.0</td>\n",
       "      <td>Luxury</td>\n",
       "      <td>Compact</td>\n",
       "      <td>Convertible</td>\n",
       "      <td>28</td>\n",
       "      <td>18</td>\n",
       "      <td>3916</td>\n",
       "      <td>34500</td>\n",
       "    </tr>\n",
       "  </tbody>\n",
       "</table>\n",
       "</div>"
      ],
      "text/plain": [
       "  Make       Model  Year             Engine Fuel Type  Engine HP  \\\n",
       "0  BMW  1 Series M  2011  premium unleaded (required)      335.0   \n",
       "1  BMW    1 Series  2011  premium unleaded (required)      300.0   \n",
       "2  BMW    1 Series  2011  premium unleaded (required)      300.0   \n",
       "3  BMW    1 Series  2011  premium unleaded (required)      230.0   \n",
       "4  BMW    1 Series  2011  premium unleaded (required)      230.0   \n",
       "\n",
       "   Engine Cylinders Transmission Type     Driven_Wheels  Number of Doors  \\\n",
       "0               6.0            MANUAL  rear wheel drive              2.0   \n",
       "1               6.0            MANUAL  rear wheel drive              2.0   \n",
       "2               6.0            MANUAL  rear wheel drive              2.0   \n",
       "3               6.0            MANUAL  rear wheel drive              2.0   \n",
       "4               6.0            MANUAL  rear wheel drive              2.0   \n",
       "\n",
       "                         Market Category Vehicle Size Vehicle Style  \\\n",
       "0  Factory Tuner,Luxury,High-Performance      Compact         Coupe   \n",
       "1                     Luxury,Performance      Compact   Convertible   \n",
       "2                Luxury,High-Performance      Compact         Coupe   \n",
       "3                     Luxury,Performance      Compact         Coupe   \n",
       "4                                 Luxury      Compact   Convertible   \n",
       "\n",
       "   highway MPG  city mpg  Popularity   MSRP  \n",
       "0           26        19        3916  46135  \n",
       "1           28        19        3916  40650  \n",
       "2           28        20        3916  36350  \n",
       "3           28        18        3916  29450  \n",
       "4           28        18        3916  34500  "
      ]
     },
     "execution_count": 118,
     "metadata": {},
     "output_type": "execute_result"
    }
   ],
   "source": [
    "df.head()"
   ]
  },
  {
   "cell_type": "markdown",
   "metadata": {},
   "source": [
    "Q2: How many records in the dataset:"
   ]
  },
  {
   "cell_type": "code",
   "execution_count": 119,
   "metadata": {},
   "outputs": [
    {
     "name": "stdout",
     "output_type": "stream",
     "text": [
      "The number of rows is >> 11914\n"
     ]
    }
   ],
   "source": [
    "df.index\n",
    "rowCount = len(df.index)\n",
    "print(\"The number of rows is >>\", rowCount)"
   ]
  },
  {
   "cell_type": "markdown",
   "metadata": {},
   "source": [
    "Question 3:\n",
    "Who are the most frequent car manufacturers (top-3) according to the dataset?"
   ]
  },
  {
   "cell_type": "code",
   "execution_count": 123,
   "metadata": {},
   "outputs": [
    {
     "name": "stdout",
     "output_type": "stream",
     "text": [
      "Chevrolet        1123\n",
      "Ford              881\n",
      "Volkswagen        809\n",
      "Toyota            746\n",
      "Dodge             626\n",
      "Nissan            558\n",
      "GMC               515\n",
      "Honda             449\n",
      "Mazda             423\n",
      "Cadillac          397\n",
      "Mercedes-Benz     353\n",
      "Suzuki            351\n",
      "BMW               334\n",
      "Infiniti          330\n",
      "Audi              328\n",
      "Hyundai           303\n",
      "Volvo             281\n",
      "Subaru            256\n",
      "Acura             252\n",
      "Kia               231\n",
      "Mitsubishi        213\n",
      "Lexus             202\n",
      "Buick             196\n",
      "Chrysler          187\n",
      "Pontiac           186\n",
      "Lincoln           164\n",
      "Oldsmobile        150\n",
      "Land Rover        143\n",
      "Porsche           136\n",
      "Saab              111\n",
      "Aston Martin       93\n",
      "Plymouth           82\n",
      "Bentley            74\n",
      "Ferrari            69\n",
      "FIAT               62\n",
      "Scion              60\n",
      "Maserati           58\n",
      "Lamborghini        52\n",
      "Rolls-Royce        31\n",
      "Lotus              29\n",
      "Tesla              18\n",
      "HUMMER             17\n",
      "Maybach            16\n",
      "Alfa Romeo          5\n",
      "McLaren             5\n",
      "Spyker              3\n",
      "Genesis             3\n",
      "Bugatti             3\n",
      "Name: Make, dtype: int64\n",
      "mode of Make series is >>> 0    Chevrolet\n",
      "Name: Make, dtype: object\n"
     ]
    }
   ],
   "source": [
    "#Q3\n",
    "print(df.Make.value_counts())\n",
    "\n",
    "print(\"mode of Make series is >>>\", df.Make.mode())"
   ]
  },
  {
   "cell_type": "markdown",
   "metadata": {},
   "source": [
    "Question 4\n",
    "What's the number of unique Audi car models in the dataset?"
   ]
  },
  {
   "cell_type": "code",
   "execution_count": 124,
   "metadata": {},
   "outputs": [
    {
     "data": {
      "text/plain": [
       "Make\n",
       "Acura            18\n",
       "Alfa Romeo        1\n",
       "Aston Martin     12\n",
       "Audi             34\n",
       "BMW              39\n",
       "Bentley          18\n",
       "Bugatti           1\n",
       "Buick            20\n",
       "Cadillac         30\n",
       "Chevrolet        63\n",
       "Chrysler         19\n",
       "Dodge            33\n",
       "FIAT              5\n",
       "Ferrari          14\n",
       "Ford             51\n",
       "GMC              30\n",
       "Genesis           1\n",
       "HUMMER            2\n",
       "Honda            21\n",
       "Hyundai          22\n",
       "Infiniti         38\n",
       "Kia              16\n",
       "Lamborghini       6\n",
       "Land Rover       11\n",
       "Lexus            46\n",
       "Lincoln          16\n",
       "Lotus             5\n",
       "Maserati          8\n",
       "Maybach           3\n",
       "Mazda            31\n",
       "McLaren           4\n",
       "Mercedes-Benz    40\n",
       "Mitsubishi       22\n",
       "Nissan           32\n",
       "Oldsmobile       18\n",
       "Plymouth         10\n",
       "Pontiac          20\n",
       "Porsche          12\n",
       "Rolls-Royce      10\n",
       "Saab              8\n",
       "Scion             8\n",
       "Spyker            1\n",
       "Subaru           16\n",
       "Suzuki           16\n",
       "Tesla             1\n",
       "Toyota           39\n",
       "Volkswagen       31\n",
       "Volvo            26\n",
       "Name: Model, dtype: int64"
      ]
     },
     "execution_count": 124,
     "metadata": {},
     "output_type": "execute_result"
    }
   ],
   "source": [
    "#Q4:\n",
    "df.groupby('Make')['Model'].nunique()\n",
    "\n"
   ]
  },
  {
   "cell_type": "markdown",
   "metadata": {},
   "source": [
    "Question 5\n",
    "How many columns in the dataset have missing values?"
   ]
  },
  {
   "cell_type": "code",
   "execution_count": 125,
   "metadata": {},
   "outputs": [
    {
     "data": {
      "text/plain": [
       "Make                    0\n",
       "Model                   0\n",
       "Year                    0\n",
       "Engine Fuel Type        3\n",
       "Engine HP              69\n",
       "Engine Cylinders       30\n",
       "Transmission Type       0\n",
       "Driven_Wheels           0\n",
       "Number of Doors         6\n",
       "Market Category      3742\n",
       "Vehicle Size            0\n",
       "Vehicle Style           0\n",
       "highway MPG             0\n",
       "city mpg                0\n",
       "Popularity              0\n",
       "MSRP                    0\n",
       "dtype: int64"
      ]
     },
     "execution_count": 125,
     "metadata": {},
     "output_type": "execute_result"
    }
   ],
   "source": [
    "# Q5\n",
    "df.isnull().sum()\n"
   ]
  },
  {
   "cell_type": "markdown",
   "metadata": {},
   "source": [
    "Question 6\n",
    "Find the median value of \"Engine Cylinders\" column in the dataset.\n",
    "Next, calculate the most frequent value of the same \"Engine Cylinders\".\n",
    "Use the fillna method to fill the missing values in \"Engine Cylinders\" with the most frequent value from the previous step.\n",
    "Now, calculate the median value of \"Engine Cylinders\" once again.\n",
    "Has it changed?"
   ]
  },
  {
   "cell_type": "code",
   "execution_count": 126,
   "metadata": {},
   "outputs": [
    {
     "name": "stdout",
     "output_type": "stream",
     "text": [
      "The median value is >> 6.0\n",
      "most frequent cylinder count is>> 4.0\n",
      "number of rows missing cylinder count is>> 30\n",
      "After filling in missing values, most frequent cylinder count is>> 4.0\n",
      "After filling in missing values, most frequent cylinder count is>> 0    4.0\n",
      "Name: Engine Cylinders, dtype: float64\n"
     ]
    }
   ],
   "source": [
    "df.sort_values(by=['Engine Cylinders'])\n",
    "\n",
    "# median of Engine Cylinders column\n",
    "# Central tendenacy\n",
    "\n",
    "medianValue= df['Engine Cylinders'].median()\n",
    "\n",
    "print (\"The median value is >>\", medianValue)\n",
    "\n",
    "\n",
    "# Next, calculate the most frequent value of the same \"Engine Cylinders\".\n",
    "\n",
    "mostFrequentCylinderCount = df['Engine Cylinders'].value_counts().idxmax()\n",
    "\n",
    "print ( \"most frequent cylinder count is>>\", mostFrequentCylinderCount)\n",
    "\n",
    "df['Engine Cylinders'].value_counts()\n",
    "\n",
    "\n",
    "\n",
    "# Use the fillna method to fill the missing values in \"Engine Cylinders\" with the most frequent value from the previous step.\n",
    "\n",
    "numberMissingValues = df['Engine Cylinders'].isna().sum()\n",
    "\n",
    "print ( \"number of rows missing cylinder count is>>\", numberMissingValues)\n",
    "\n",
    "\n",
    "df['Engine Cylinders'].fillna(mostFrequentCylinderCount,inplace=True)\n",
    "\n",
    "\n",
    "\n",
    "mostFrequentCylinderCount = df['Engine Cylinders'].value_counts().idxmax()\n",
    "\n",
    "print ( \"After filling in missing values, most frequent cylinder count is>>\", mostFrequentCylinderCount)\n",
    "\n",
    "#another way to check.\n",
    "mostFreqCheck = df['Engine Cylinders'].mode()\n",
    "\n",
    "print ( \"After filling in missing values, most frequent cylinder count is>>\", mostFreqCheck)\n",
    "\n"
   ]
  },
  {
   "cell_type": "markdown",
   "metadata": {},
   "source": [
    "Question 7\n",
    "Select all the \"Lotus\" cars from the dataset.\n",
    "Select only columns \"Engine HP\", \"Engine Cylinders\".\n",
    "Now drop all duplicated rows using drop_duplicates method (you should get a dataframe with 9 rows).\n",
    "Get the underlying NumPy array. Let's call it X.\n",
    "Compute matrix-matrix multiplication between the transpose of X and X. To get the transpose, use X.T. Let's call the result XTX.\n",
    "Invert XTX.\n",
    "Create an array y with values [1100, 800, 750, 850, 1300, 1000, 1000, 1300, 800].\n",
    "Multiply the inverse of XTX with the transpose of X, and then multiply the result by y. Call the result w.\n",
    "What's the value of the first element of w?"
   ]
  },
  {
   "cell_type": "code",
   "execution_count": 127,
   "metadata": {},
   "outputs": [
    {
     "name": "stdout",
     "output_type": "stream",
     "text": [
      "       Make      Model  Year                Engine Fuel Type  Engine HP  \\\n",
      "3912  Lotus      Elise  2009     premium unleaded (required)      189.0   \n",
      "3913  Lotus      Elise  2009     premium unleaded (required)      218.0   \n",
      "3914  Lotus      Elise  2009     premium unleaded (required)      189.0   \n",
      "3915  Lotus      Elise  2010     premium unleaded (required)      189.0   \n",
      "3916  Lotus      Elise  2010     premium unleaded (required)      218.0   \n",
      "3917  Lotus      Elise  2011     premium unleaded (required)      189.0   \n",
      "3918  Lotus      Elise  2011     premium unleaded (required)      217.0   \n",
      "3919  Lotus      Elise  2011     premium unleaded (required)      217.0   \n",
      "4216  Lotus     Esprit  2002     premium unleaded (required)      350.0   \n",
      "4217  Lotus     Esprit  2003     premium unleaded (required)      350.0   \n",
      "4218  Lotus     Esprit  2004     premium unleaded (required)      350.0   \n",
      "4257  Lotus  Evora 400  2017     premium unleaded (required)      400.0   \n",
      "4258  Lotus  Evora 400  2017     premium unleaded (required)      400.0   \n",
      "4259  Lotus      Evora  2011     premium unleaded (required)      276.0   \n",
      "4260  Lotus      Evora  2011     premium unleaded (required)      276.0   \n",
      "4261  Lotus      Evora  2013     premium unleaded (required)      276.0   \n",
      "4262  Lotus      Evora  2013     premium unleaded (required)      345.0   \n",
      "4263  Lotus      Evora  2013     premium unleaded (required)      345.0   \n",
      "4264  Lotus      Evora  2013     premium unleaded (required)      276.0   \n",
      "4265  Lotus      Evora  2014     premium unleaded (required)      345.0   \n",
      "4266  Lotus      Evora  2014     premium unleaded (required)      276.0   \n",
      "4267  Lotus      Evora  2014     premium unleaded (required)      345.0   \n",
      "4268  Lotus      Evora  2014     premium unleaded (required)      276.0   \n",
      "4292  Lotus      Exige  2009  premium unleaded (recommended)      257.0   \n",
      "4293  Lotus      Exige  2009  premium unleaded (recommended)      240.0   \n",
      "4294  Lotus      Exige  2010  premium unleaded (recommended)      240.0   \n",
      "4295  Lotus      Exige  2011  premium unleaded (recommended)      240.0   \n",
      "4296  Lotus      Exige  2011  premium unleaded (recommended)      257.0   \n",
      "4297  Lotus      Exige  2011  premium unleaded (recommended)      257.0   \n",
      "\n",
      "      Engine Cylinders Transmission Type     Driven_Wheels  Number of Doors  \\\n",
      "3912               4.0            MANUAL  rear wheel drive              2.0   \n",
      "3913               4.0            MANUAL  rear wheel drive              2.0   \n",
      "3914               4.0            MANUAL  rear wheel drive              2.0   \n",
      "3915               4.0            MANUAL  rear wheel drive              2.0   \n",
      "3916               4.0            MANUAL  rear wheel drive              2.0   \n",
      "3917               4.0            MANUAL  rear wheel drive              2.0   \n",
      "3918               4.0            MANUAL  rear wheel drive              2.0   \n",
      "3919               4.0            MANUAL  rear wheel drive              2.0   \n",
      "4216               8.0            MANUAL  rear wheel drive              2.0   \n",
      "4217               8.0            MANUAL  rear wheel drive              2.0   \n",
      "4218               8.0            MANUAL  rear wheel drive              2.0   \n",
      "4257               6.0            MANUAL  rear wheel drive              2.0   \n",
      "4258               6.0            MANUAL  rear wheel drive              2.0   \n",
      "4259               6.0            MANUAL  rear wheel drive              2.0   \n",
      "4260               6.0            MANUAL  rear wheel drive              2.0   \n",
      "4261               6.0            MANUAL  rear wheel drive              2.0   \n",
      "4262               6.0            MANUAL  rear wheel drive              2.0   \n",
      "4263               6.0            MANUAL  rear wheel drive              2.0   \n",
      "4264               6.0            MANUAL  rear wheel drive              2.0   \n",
      "4265               6.0            MANUAL  rear wheel drive              2.0   \n",
      "4266               6.0            MANUAL  rear wheel drive              2.0   \n",
      "4267               6.0            MANUAL  rear wheel drive              2.0   \n",
      "4268               6.0            MANUAL  rear wheel drive              2.0   \n",
      "4292               4.0            MANUAL  rear wheel drive              2.0   \n",
      "4293               4.0            MANUAL  rear wheel drive              2.0   \n",
      "4294               4.0            MANUAL  rear wheel drive              2.0   \n",
      "4295               4.0            MANUAL  rear wheel drive              2.0   \n",
      "4296               4.0            MANUAL  rear wheel drive              2.0   \n",
      "4297               4.0            MANUAL  rear wheel drive              2.0   \n",
      "\n",
      "              Market Category Vehicle Size Vehicle Style  highway MPG  \\\n",
      "3912  Exotic,High-Performance      Compact   Convertible           27   \n",
      "3913  Exotic,High-Performance      Compact   Convertible           26   \n",
      "3914  Exotic,High-Performance      Compact   Convertible           27   \n",
      "3915  Exotic,High-Performance      Compact   Convertible           27   \n",
      "3916  Exotic,High-Performance      Compact   Convertible           26   \n",
      "3917  Exotic,High-Performance      Compact   Convertible           27   \n",
      "3918  Exotic,High-Performance      Compact   Convertible           26   \n",
      "3919  Exotic,High-Performance      Compact   Convertible           26   \n",
      "4216  Exotic,High-Performance      Compact         Coupe           21   \n",
      "4217  Exotic,High-Performance      Compact         Coupe           21   \n",
      "4218  Exotic,High-Performance      Compact         Coupe           21   \n",
      "4257  Exotic,High-Performance      Compact         Coupe           39   \n",
      "4258  Exotic,High-Performance      Compact         Coupe           39   \n",
      "4259  Exotic,High-Performance      Compact         Coupe           27   \n",
      "4260  Exotic,High-Performance      Compact         Coupe           26   \n",
      "4261  Exotic,High-Performance      Compact         Coupe           26   \n",
      "4262  Exotic,High-Performance      Compact         Coupe           26   \n",
      "4263  Exotic,High-Performance      Compact         Coupe           26   \n",
      "4264  Exotic,High-Performance      Compact         Coupe           26   \n",
      "4265  Exotic,High-Performance      Compact         Coupe           26   \n",
      "4266  Exotic,High-Performance      Compact         Coupe           26   \n",
      "4267  Exotic,High-Performance      Compact         Coupe           26   \n",
      "4268  Exotic,High-Performance      Compact         Coupe           26   \n",
      "4292  Exotic,High-Performance      Compact         Coupe           26   \n",
      "4293  Exotic,High-Performance      Compact         Coupe           26   \n",
      "4294  Exotic,High-Performance      Compact         Coupe           26   \n",
      "4295  Exotic,High-Performance      Compact         Coupe           26   \n",
      "4296  Exotic,High-Performance      Compact         Coupe           26   \n",
      "4297  Exotic,High-Performance      Compact         Coupe           26   \n",
      "\n",
      "      city mpg  Popularity   MSRP  \n",
      "3912        21         613  43995  \n",
      "3913        20         613  54990  \n",
      "3914        21         613  47250  \n",
      "3915        21         613  47250  \n",
      "3916        20         613  54990  \n",
      "3917        21         613  51845  \n",
      "3918        20         613  54990  \n",
      "3919        20         613  57950  \n",
      "4216        14         613  89825  \n",
      "4217        14         613  90825  \n",
      "4218        14         613  93225  \n",
      "4257        21         613  91900  \n",
      "4258        21         613  91900  \n",
      "4259        18         613  64000  \n",
      "4260        18         613  65500  \n",
      "4261        18         613  66800  \n",
      "4262        17         613  77100  \n",
      "4263        17         613  78600  \n",
      "4264        18         613  68300  \n",
      "4265        17         613  78750  \n",
      "4266        18         613  68750  \n",
      "4267        17         613  79980  \n",
      "4268        18         613  69980  \n",
      "4292        20         613  74995  \n",
      "4293        20         613  65690  \n",
      "4294        20         613  65690  \n",
      "4295        20         613  65690  \n",
      "4296        20         613  70750  \n",
      "4297        20         613  74950  \n"
     ]
    }
   ],
   "source": [
    "# Q7: all lotus cars\n",
    "\n",
    "df [ df['Make'] == 'Lotus']\n",
    "\n",
    "\n",
    "\n",
    "\n",
    "dfLotus  = df [ df['Make'] == 'Lotus']\n",
    "\n",
    "dfLotus['Vehicle Style'].value_counts()\n",
    "\n",
    "print(dfLotus)\n",
    "\n",
    "#numberLotusCars = len(dfLotus.axes[0])\n",
    "\n",
    "#print(\"number of rows>>\", numberLotusCars)"
   ]
  },
  {
   "cell_type": "code",
   "execution_count": 129,
   "metadata": {},
   "outputs": [
    {
     "name": "stdout",
     "output_type": "stream",
     "text": [
      "      Engine HP  Engine Cylinders\n",
      "3912      189.0               4.0\n",
      "3913      218.0               4.0\n",
      "3914      189.0               4.0\n",
      "3915      189.0               4.0\n",
      "3916      218.0               4.0\n",
      "3917      189.0               4.0\n",
      "3918      217.0               4.0\n",
      "3919      217.0               4.0\n",
      "4216      350.0               8.0\n",
      "4217      350.0               8.0\n",
      "4218      350.0               8.0\n",
      "4257      400.0               6.0\n",
      "4258      400.0               6.0\n",
      "4259      276.0               6.0\n",
      "4260      276.0               6.0\n",
      "4261      276.0               6.0\n",
      "4262      345.0               6.0\n",
      "4263      345.0               6.0\n",
      "4264      276.0               6.0\n",
      "4265      345.0               6.0\n",
      "4266      276.0               6.0\n",
      "4267      345.0               6.0\n",
      "4268      276.0               6.0\n",
      "4292      257.0               4.0\n",
      "4293      240.0               4.0\n",
      "4294      240.0               4.0\n",
      "4295      240.0               4.0\n",
      "4296      257.0               4.0\n",
      "4297      257.0               4.0\n"
     ]
    }
   ],
   "source": [
    "# Q7: Select only columns \"Engine HP\", \"Engine Cylinders\".\n",
    "\n",
    "dfLotus  = df [ df['Make'] == 'Lotus']\n",
    "\n",
    "dfEngineInfo = dfLotus[[\"Engine HP\",\"Engine Cylinders\"]]\n",
    "\n",
    "print(dfEngineInfo)\n",
    "\n"
   ]
  },
  {
   "cell_type": "code",
   "execution_count": 130,
   "metadata": {},
   "outputs": [
    {
     "name": "stdout",
     "output_type": "stream",
     "text": [
      "The number of unique Lotus Cars>> 9\n"
     ]
    }
   ],
   "source": [
    "#Now drop all duplicated rows using drop_duplicates method (you should get a dataframe with 9 rows).\n",
    "\n",
    "dfEngineInfoUnique= dfEngineInfo.drop_duplicates(subset=['Engine HP', 'Engine Cylinders'])\n",
    "\n",
    "print(\"The number of unique Lotus Cars>>\",len(dfEngineInfoUnique.index))"
   ]
  },
  {
   "cell_type": "code",
   "execution_count": 1,
   "metadata": {},
   "outputs": [
    {
     "ename": "NameError",
     "evalue": "name 'dfEngineInfoUnique' is not defined",
     "output_type": "error",
     "traceback": [
      "\u001b[0;31m---------------------------------------------------------------------------\u001b[0m",
      "\u001b[0;31mNameError\u001b[0m                                 Traceback (most recent call last)",
      "\u001b[1;32m/home/chris/data/development/projects/machineLearning/ml-bootcamp/intro/homework copy.ipynb Cell 23\u001b[0m in \u001b[0;36m<cell line: 2>\u001b[0;34m()\u001b[0m\n\u001b[1;32m      <a href='vscode-notebook-cell:/home/chris/data/development/projects/machineLearning/ml-bootcamp/intro/homework%20copy.ipynb#X31sZmlsZQ%3D%3D?line=0'>1</a>\u001b[0m \u001b[39m#get the underlying numpy array\u001b[39;00m\n\u001b[0;32m----> <a href='vscode-notebook-cell:/home/chris/data/development/projects/machineLearning/ml-bootcamp/intro/homework%20copy.ipynb#X31sZmlsZQ%3D%3D?line=1'>2</a>\u001b[0m X \u001b[39m=\u001b[39m dfEngineInfoUnique\u001b[39m.\u001b[39mto_numpy()\n\u001b[1;32m      <a href='vscode-notebook-cell:/home/chris/data/development/projects/machineLearning/ml-bootcamp/intro/homework%20copy.ipynb#X31sZmlsZQ%3D%3D?line=3'>4</a>\u001b[0m \u001b[39mprint\u001b[39m(X)\n\u001b[1;32m      <a href='vscode-notebook-cell:/home/chris/data/development/projects/machineLearning/ml-bootcamp/intro/homework%20copy.ipynb#X31sZmlsZQ%3D%3D?line=5'>6</a>\u001b[0m \u001b[39m#TRANSPOSE OF X\u001b[39;00m\n",
      "\u001b[0;31mNameError\u001b[0m: name 'dfEngineInfoUnique' is not defined"
     ]
    }
   ],
   "source": [
    "#get the underlying numpy array\n",
    "X = dfEngineInfoUnique.to_numpy()\n",
    "\n",
    "print(X)\n",
    "\n",
    "#TRANSPOSE OF X\n",
    "XT = np.transpose(X)\n",
    "\n",
    "print(XT)\n",
    "\n",
    "XTX = np.matmul(XT, X)\n",
    "\n",
    "print(XTX)\n",
    "\n",
    "# Calculating the inverse of the matrix\n",
    "print(np.linalg.inv(XTX))\n",
    "\n",
    "XTX_INVERSE=np.linalg.inv(XTX)\n",
    "\n",
    "# create array - [1100, 800, 750, 850, 1300, 1000, 1000, 1300, 800]\n",
    "# Multiply the inverse of XTX with the transpose of X, and then multiply the result by y. Call the result w.\n",
    "\n",
    "y = np.array([1100, 800, 750, 850, 1300, 1000, 1000, 1300, 800])\n",
    "\n",
    "matrixCalc = np.matmul(XTX_INVERSE, XT)\n",
    "\n",
    "matrixCalc.shape\n",
    "\n",
    "w = np.matmul(matrixCalc,y)\n",
    "\n",
    "print(\"calculating the final result>>>>>>>>>>>\")\n",
    "print(w)\n"
   ]
  },
  {
   "cell_type": "code",
   "execution_count": null,
   "metadata": {},
   "outputs": [],
   "source": []
  }
 ],
 "metadata": {
  "kernelspec": {
   "display_name": "Python 3.9.13 ('ml-zoomcamp')",
   "language": "python",
   "name": "python3"
  },
  "language_info": {
   "codemirror_mode": {
    "name": "ipython",
    "version": 3
   },
   "file_extension": ".py",
   "mimetype": "text/x-python",
   "name": "python",
   "nbconvert_exporter": "python",
   "pygments_lexer": "ipython3",
   "version": "3.9.13"
  },
  "vscode": {
   "interpreter": {
    "hash": "70fbfd4f9d1e457362851f789cd9c0c5ec530917921c3069ab0184c4078e0caf"
   }
  }
 },
 "nbformat": 4,
 "nbformat_minor": 4
}
