{
  "cells": [
    {
      "cell_type": "markdown",
      "metadata": {
        "id": "GwPpiPVtf1o6"
      },
      "source": [
        "# Machine Learning BookCamp - Zoom Camp\n",
        "\n",
        "## Home work : \n",
        "\n",
        "### 01 Intro\n",
        "\n",
        "#### [Chris Smith's Github Link](https://github.com/christopherlynnsmith/ml-bootcamp)"
      ]
    },
    {
      "cell_type": "code",
      "execution_count": 29,
      "metadata": {
        "id": "JfT4MoQ1f1o-"
      },
      "outputs": [],
      "source": [
        "import numpy as np\n",
        "import pandas as pd"
      ]
    },
    {
      "cell_type": "code",
      "execution_count": 30,
      "metadata": {
        "colab": {
          "base_uri": "https://localhost:8080/",
          "height": 35
        },
        "id": "Z8JItK6gf1pA",
        "outputId": "78a4a037-dc5f-4159-e8b1-483aa8ed28f5"
      },
      "outputs": [
        {
          "output_type": "execute_result",
          "data": {
            "text/plain": [
              "'1.21.6'"
            ],
            "application/vnd.google.colaboratory.intrinsic+json": {
              "type": "string"
            }
          },
          "metadata": {},
          "execution_count": 30
        }
      ],
      "source": [
        "# Q1\n",
        "np.__version__"
      ]
    },
    {
      "cell_type": "code",
      "execution_count": 31,
      "metadata": {
        "colab": {
          "base_uri": "https://localhost:8080/",
          "height": 35
        },
        "id": "H8tPMu7Mf1pB",
        "outputId": "08ae72f3-ae94-4415-fdd3-15dd18f4a139"
      },
      "outputs": [
        {
          "output_type": "execute_result",
          "data": {
            "text/plain": [
              "'1.3.5'"
            ],
            "application/vnd.google.colaboratory.intrinsic+json": {
              "type": "string"
            }
          },
          "metadata": {},
          "execution_count": 31
        }
      ],
      "source": [
        "# Q2\n",
        "pd.__version__"
      ]
    },
    {
      "cell_type": "code",
      "execution_count": null,
      "metadata": {
        "id": "vCWQEnTbf1pC"
      },
      "outputs": [],
      "source": [
        "df = pd.read_csv(\"data.csv\")"
      ]
    },
    {
      "cell_type": "code",
      "execution_count": null,
      "metadata": {
        "id": "xv-o4coff1pD"
      },
      "outputs": [],
      "source": [
        "df.head()"
      ]
    },
    {
      "cell_type": "code",
      "execution_count": null,
      "metadata": {
        "id": "VUmEzfxCf1pD"
      },
      "outputs": [],
      "source": [
        "# Q3\n",
        "df[\n",
        "    df['Make'] == 'BMW'\n",
        "].describe()\n",
        "\n",
        "# mean price of BMW  = 61546.763473"
      ]
    },
    {
      "cell_type": "code",
      "execution_count": null,
      "metadata": {
        "id": "BH4KEVKOf1pE"
      },
      "outputs": [],
      "source": [
        "# Q4\n",
        "df[\n",
        "    df['Year'] >= 2015\n",
        "].isna().sum() # or isnull().sum()\n",
        "\n",
        "# is na Engine HP = 51"
      ]
    },
    {
      "cell_type": "code",
      "execution_count": null,
      "metadata": {
        "id": "TitViaxEf1pF"
      },
      "outputs": [],
      "source": [
        "# Q5\n",
        "df_2015 = df[\n",
        "    df['Year'] >= 2015\n",
        "]\n",
        "# mean with 51 nans.\n",
        "mean_hp_before = df_2015[\"Engine HP\"].mean()\n"
      ]
    },
    {
      "cell_type": "code",
      "execution_count": null,
      "metadata": {
        "id": "T8QO5bN3f1pG"
      },
      "outputs": [],
      "source": [
        "# Q5\n",
        "\n",
        "# after filling NAN.\n",
        "df_2015[\"Engine HP\"].fillna(df_2015[\"Engine HP\"].mean(),inplace=True)"
      ]
    },
    {
      "cell_type": "code",
      "execution_count": null,
      "metadata": {
        "id": "_RXCmGomf1pH"
      },
      "outputs": [],
      "source": [
        "# Q5\n",
        "# the mean didn't change\n",
        "mean_hp_after = df_2015[\"Engine HP\"].mean() \n",
        "\n",
        "df_2015[\"Engine HP\"].isna().sum()"
      ]
    },
    {
      "cell_type": "code",
      "execution_count": null,
      "metadata": {
        "id": "eQT1gho4f1pH"
      },
      "outputs": [],
      "source": [
        "print(round(mean_hp_before))\n",
        "print(round(mean_hp_after))"
      ]
    },
    {
      "cell_type": "code",
      "execution_count": null,
      "metadata": {
        "id": "gG_0nt9gf1pI"
      },
      "outputs": [],
      "source": [
        "# Q6\n",
        "\n",
        "df_RR = df[ df['Make'] == 'Rolls-Royce']\n",
        "df_RR.head()"
      ]
    },
    {
      "cell_type": "code",
      "execution_count": null,
      "metadata": {
        "id": "wOponvlnf1pI"
      },
      "outputs": [],
      "source": [
        "X = df_RR[['Engine HP', 'Engine Cylinders', 'highway MPG']].drop_duplicates()\n",
        "X"
      ]
    },
    {
      "cell_type": "code",
      "execution_count": null,
      "metadata": {
        "id": "ZNBipbigf1pI"
      },
      "outputs": [],
      "source": [
        "XT = X.T\n",
        "XT"
      ]
    },
    {
      "cell_type": "code",
      "execution_count": null,
      "metadata": {
        "id": "hffkhav2f1pJ"
      },
      "outputs": [],
      "source": [
        "X.shape"
      ]
    },
    {
      "cell_type": "code",
      "execution_count": null,
      "metadata": {
        "id": "fp8WJ2q4f1pJ"
      },
      "outputs": [],
      "source": [
        "XT.shape"
      ]
    },
    {
      "cell_type": "code",
      "execution_count": null,
      "metadata": {
        "id": "CnSt1Uw1f1pJ"
      },
      "outputs": [],
      "source": [
        "XTX = np.dot(XT , X)\n",
        "XTX\n",
        "XTX_inv = np.linalg.inv(XTX)\n",
        "XTX_inv, XTX_inv.sum()\n",
        "\n",
        "# sum of inv XTX is = 0.0322"
      ]
    },
    {
      "cell_type": "code",
      "execution_count": null,
      "metadata": {
        "id": "s6P-jSxBf1pK"
      },
      "outputs": [],
      "source": [
        "# Q7\n",
        "y = [1000, 1100, 900, 1200, 1000, 850, 1300]\n",
        "w = np.dot(np.dot(XTX_inv,XT),y)\n",
        "w\n",
        "# first element is = 0.1998"
      ]
    },
    {
      "cell_type": "code",
      "execution_count": null,
      "metadata": {
        "id": "7rvxVlRYf1pK"
      },
      "outputs": [],
      "source": []
    }
  ],
  "metadata": {
    "kernelspec": {
      "display_name": "Python 3.8.5 ('tf_gpu_engr')",
      "language": "python",
      "name": "python3"
    },
    "language_info": {
      "codemirror_mode": {
        "name": "ipython",
        "version": 3
      },
      "file_extension": ".py",
      "mimetype": "text/x-python",
      "name": "python",
      "nbconvert_exporter": "python",
      "pygments_lexer": "ipython3",
      "version": "3.8.5"
    },
    "vscode": {
      "interpreter": {
        "hash": "9932a2a79cb7753e3f574dacc7317b922007c0906b0660782adbce93fd01b8d0"
      }
    },
    "colab": {
      "provenance": []
    }
  },
  "nbformat": 4,
  "nbformat_minor": 0
}