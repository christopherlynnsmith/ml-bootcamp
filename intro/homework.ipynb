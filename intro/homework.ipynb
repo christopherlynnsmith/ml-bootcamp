{
 "cells": [
  {
   "cell_type": "markdown",
   "metadata": {},
   "source": [
    "# Machine Learning BookCamp - Zoom Camp\n",
    "\n",
    "## Home work : \n",
    "\n",
    "### 01 Intro\n",
    "\n",
    "#### [Chris Smith's Github Link](https://github.com/christopherlynnsmith/ml-bootcamp)"
   ]
  },
  {
   "cell_type": "code",
   "execution_count": null,
   "metadata": {},
   "outputs": [
    {
     "ename": "",
     "evalue": "",
     "output_type": "error",
     "traceback": [
      "\u001b[1;31mRunning cells with 'Python 3.8.5 ('tf_gpu_engr')' requires ipykernel package.\n",
      "\u001b[1;31mRun the following command to install 'ipykernel' into the Python environment. \n",
      "\u001b[1;31mCommand: 'conda install -n tf_gpu_engr ipykernel --update-deps --force-reinstall'"
     ]
    }
   ],
   "source": [
    "import numpy as np\n",
    "import pandas as pd"
   ]
  },
  {
   "cell_type": "code",
   "execution_count": null,
   "metadata": {},
   "outputs": [],
   "source": [
    "# Q1\n",
    "np.__version__"
   ]
  },
  {
   "cell_type": "code",
   "execution_count": null,
   "metadata": {},
   "outputs": [],
   "source": [
    "# Q2\n",
    "pd.__version__"
   ]
  },
  {
   "cell_type": "code",
   "execution_count": null,
   "metadata": {},
   "outputs": [],
   "source": [
    "df = pd.read_csv(\"data.csv\")"
   ]
  },
  {
   "cell_type": "code",
   "execution_count": null,
   "metadata": {},
   "outputs": [],
   "source": [
    "df.head()"
   ]
  },
  {
   "cell_type": "code",
   "execution_count": null,
   "metadata": {},
   "outputs": [],
   "source": [
    "# Q3\n",
    "df[\n",
    "    df['Make'] == 'BMW'\n",
    "].describe()\n",
    "\n",
    "# mean price of BMW  = 61546.763473"
   ]
  },
  {
   "cell_type": "code",
   "execution_count": null,
   "metadata": {},
   "outputs": [],
   "source": [
    "# Q4\n",
    "df[\n",
    "    df['Year'] >= 2015\n",
    "].isna().sum() # or isnull().sum()\n",
    "\n",
    "# is na Engine HP = 51"
   ]
  },
  {
   "cell_type": "code",
   "execution_count": null,
   "metadata": {},
   "outputs": [],
   "source": [
    "# Q5\n",
    "df_2015 = df[\n",
    "    df['Year'] >= 2015\n",
    "]\n",
    "# mean with 51 nans.\n",
    "mean_hp_before = df_2015[\"Engine HP\"].mean()\n"
   ]
  },
  {
   "cell_type": "code",
   "execution_count": null,
   "metadata": {},
   "outputs": [],
   "source": [
    "# Q5\n",
    "\n",
    "# after filling NAN.\n",
    "df_2015[\"Engine HP\"].fillna(df_2015[\"Engine HP\"].mean(),inplace=True)"
   ]
  },
  {
   "cell_type": "code",
   "execution_count": null,
   "metadata": {},
   "outputs": [],
   "source": [
    "# Q5\n",
    "# the mean didn't change\n",
    "mean_hp_after = df_2015[\"Engine HP\"].mean() \n",
    "\n",
    "df_2015[\"Engine HP\"].isna().sum()"
   ]
  },
  {
   "cell_type": "code",
   "execution_count": null,
   "metadata": {},
   "outputs": [],
   "source": [
    "print(round(mean_hp_before))\n",
    "print(round(mean_hp_after))"
   ]
  },
  {
   "cell_type": "code",
   "execution_count": null,
   "metadata": {},
   "outputs": [],
   "source": [
    "# Q6\n",
    "\n",
    "df_RR = df[ df['Make'] == 'Rolls-Royce']\n",
    "df_RR.head()"
   ]
  },
  {
   "cell_type": "code",
   "execution_count": null,
   "metadata": {},
   "outputs": [],
   "source": [
    "X = df_RR[['Engine HP', 'Engine Cylinders', 'highway MPG']].drop_duplicates()\n",
    "X"
   ]
  },
  {
   "cell_type": "code",
   "execution_count": null,
   "metadata": {},
   "outputs": [],
   "source": [
    "XT = X.T\n",
    "XT"
   ]
  },
  {
   "cell_type": "code",
   "execution_count": null,
   "metadata": {},
   "outputs": [],
   "source": [
    "X.shape"
   ]
  },
  {
   "cell_type": "code",
   "execution_count": null,
   "metadata": {},
   "outputs": [],
   "source": [
    "XT.shape"
   ]
  },
  {
   "cell_type": "code",
   "execution_count": null,
   "metadata": {},
   "outputs": [],
   "source": [
    "XTX = np.dot(XT , X)\n",
    "XTX\n",
    "XTX_inv = np.linalg.inv(XTX)\n",
    "XTX_inv, XTX_inv.sum()\n",
    "\n",
    "# sum of inv XTX is = 0.0322"
   ]
  },
  {
   "cell_type": "code",
   "execution_count": null,
   "metadata": {},
   "outputs": [],
   "source": [
    "# Q7\n",
    "y = [1000, 1100, 900, 1200, 1000, 850, 1300]\n",
    "w = np.dot(np.dot(XTX_inv,XT),y)\n",
    "w\n",
    "# first element is = 0.1998"
   ]
  },
  {
   "cell_type": "code",
   "execution_count": null,
   "metadata": {},
   "outputs": [],
   "source": []
  }
 ],
 "metadata": {
  "kernelspec": {
   "display_name": "Python 3.8.5 ('tf_gpu_engr')",
   "language": "python",
   "name": "python3"
  },
  "language_info": {
   "codemirror_mode": {
    "name": "ipython",
    "version": 3
   },
   "file_extension": ".py",
   "mimetype": "text/x-python",
   "name": "python",
   "nbconvert_exporter": "python",
   "pygments_lexer": "ipython3",
   "version": "3.8.5"
  },
  "vscode": {
   "interpreter": {
    "hash": "9932a2a79cb7753e3f574dacc7317b922007c0906b0660782adbce93fd01b8d0"
   }
  }
 },
 "nbformat": 4,
 "nbformat_minor": 4
}
